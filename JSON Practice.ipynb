{
 "cells": [
  {
   "cell_type": "code",
   "execution_count": 16,
   "id": "c9cbf384",
   "metadata": {},
   "outputs": [],
   "source": [
    "import pandas as pd\n",
    "\n",
    "wineratings = pd.read_csv(\"wine-ratings.csv\")"
   ]
  },
  {
   "cell_type": "code",
   "execution_count": 17,
   "id": "6633f05e",
   "metadata": {},
   "outputs": [
    {
     "data": {
      "text/html": [
       "<div>\n",
       "<style scoped>\n",
       "    .dataframe tbody tr th:only-of-type {\n",
       "        vertical-align: middle;\n",
       "    }\n",
       "\n",
       "    .dataframe tbody tr th {\n",
       "        vertical-align: top;\n",
       "    }\n",
       "\n",
       "    .dataframe thead th {\n",
       "        text-align: right;\n",
       "    }\n",
       "</style>\n",
       "<table border=\"1\" class=\"dataframe\">\n",
       "  <thead>\n",
       "    <tr style=\"text-align: right;\">\n",
       "      <th></th>\n",
       "      <th>Unnamed: 0</th>\n",
       "      <th>name</th>\n",
       "      <th>grape</th>\n",
       "      <th>region</th>\n",
       "      <th>variety</th>\n",
       "      <th>rating</th>\n",
       "      <th>notes</th>\n",
       "    </tr>\n",
       "  </thead>\n",
       "  <tbody>\n",
       "    <tr>\n",
       "      <th>0</th>\n",
       "      <td>0</td>\n",
       "      <td>1000 Stories Bourbon Barrel Aged Batch Blue Ca...</td>\n",
       "      <td>NaN</td>\n",
       "      <td>Mendocino, California</td>\n",
       "      <td>Red Wine</td>\n",
       "      <td>91</td>\n",
       "      <td>This is a very special, limited release of 100...</td>\n",
       "    </tr>\n",
       "    <tr>\n",
       "      <th>1</th>\n",
       "      <td>1</td>\n",
       "      <td>1000 Stories Bourbon Barrel Aged Gold Rush Red...</td>\n",
       "      <td>NaN</td>\n",
       "      <td>California</td>\n",
       "      <td>Red Wine</td>\n",
       "      <td>89</td>\n",
       "      <td>The California Gold Rush was a period of coura...</td>\n",
       "    </tr>\n",
       "    <tr>\n",
       "      <th>2</th>\n",
       "      <td>2</td>\n",
       "      <td>1000 Stories Bourbon Barrel Aged Gold Rush Red...</td>\n",
       "      <td>NaN</td>\n",
       "      <td>California</td>\n",
       "      <td>Red Wine</td>\n",
       "      <td>90</td>\n",
       "      <td>The California Gold Rush was a period of coura...</td>\n",
       "    </tr>\n",
       "    <tr>\n",
       "      <th>3</th>\n",
       "      <td>3</td>\n",
       "      <td>1000 Stories Bourbon Barrel Aged Zinfandel 2013</td>\n",
       "      <td>NaN</td>\n",
       "      <td>North Coast, California</td>\n",
       "      <td>Red Wine</td>\n",
       "      <td>91</td>\n",
       "      <td>The wine has a deep, rich purple color. An int...</td>\n",
       "    </tr>\n",
       "    <tr>\n",
       "      <th>4</th>\n",
       "      <td>4</td>\n",
       "      <td>1000 Stories Bourbon Barrel Aged Zinfandel 2014</td>\n",
       "      <td>NaN</td>\n",
       "      <td>California</td>\n",
       "      <td>Red Wine</td>\n",
       "      <td>90</td>\n",
       "      <td>Batch #004 is the first release of the 2014 vi...</td>\n",
       "    </tr>\n",
       "  </tbody>\n",
       "</table>\n",
       "</div>"
      ],
      "text/plain": [
       "   Unnamed: 0                                               name  grape  \\\n",
       "0           0  1000 Stories Bourbon Barrel Aged Batch Blue Ca...    NaN   \n",
       "1           1  1000 Stories Bourbon Barrel Aged Gold Rush Red...    NaN   \n",
       "2           2  1000 Stories Bourbon Barrel Aged Gold Rush Red...    NaN   \n",
       "3           3    1000 Stories Bourbon Barrel Aged Zinfandel 2013    NaN   \n",
       "4           4    1000 Stories Bourbon Barrel Aged Zinfandel 2014    NaN   \n",
       "\n",
       "                    region   variety  rating  \\\n",
       "0    Mendocino, California  Red Wine      91   \n",
       "1               California  Red Wine      89   \n",
       "2               California  Red Wine      90   \n",
       "3  North Coast, California  Red Wine      91   \n",
       "4               California  Red Wine      90   \n",
       "\n",
       "                                               notes  \n",
       "0  This is a very special, limited release of 100...  \n",
       "1  The California Gold Rush was a period of coura...  \n",
       "2  The California Gold Rush was a period of coura...  \n",
       "3  The wine has a deep, rich purple color. An int...  \n",
       "4  Batch #004 is the first release of the 2014 vi...  "
      ]
     },
     "execution_count": 17,
     "metadata": {},
     "output_type": "execute_result"
    }
   ],
   "source": [
    "wineratings.head()"
   ]
  },
  {
   "cell_type": "code",
   "execution_count": 18,
   "id": "7162ca6b",
   "metadata": {},
   "outputs": [
    {
     "name": "stdout",
     "output_type": "stream",
     "text": [
      "<class 'pandas.core.frame.DataFrame'>\n"
     ]
    }
   ],
   "source": [
    "wineratings = wineratings[wineratings['variety'] == 'White Wine']\n",
    "print(type(wineratings))"
   ]
  },
  {
   "cell_type": "code",
   "execution_count": 19,
   "id": "e82acb87",
   "metadata": {},
   "outputs": [
    {
     "data": {
      "text/html": [
       "<div>\n",
       "<style scoped>\n",
       "    .dataframe tbody tr th:only-of-type {\n",
       "        vertical-align: middle;\n",
       "    }\n",
       "\n",
       "    .dataframe tbody tr th {\n",
       "        vertical-align: top;\n",
       "    }\n",
       "\n",
       "    .dataframe thead th {\n",
       "        text-align: right;\n",
       "    }\n",
       "</style>\n",
       "<table border=\"1\" class=\"dataframe\">\n",
       "  <thead>\n",
       "    <tr style=\"text-align: right;\">\n",
       "      <th></th>\n",
       "      <th>Unnamed: 0</th>\n",
       "      <th>name</th>\n",
       "      <th>grape</th>\n",
       "      <th>region</th>\n",
       "      <th>variety</th>\n",
       "      <th>rating</th>\n",
       "      <th>notes</th>\n",
       "    </tr>\n",
       "  </thead>\n",
       "  <tbody>\n",
       "    <tr>\n",
       "      <th>12</th>\n",
       "      <td>12</td>\n",
       "      <td>14 Hands Chardonnay 2011</td>\n",
       "      <td>NaN</td>\n",
       "      <td>Washington</td>\n",
       "      <td>White Wine</td>\n",
       "      <td>89</td>\n",
       "      <td>This Chardonnay displays aromas and flavors of...</td>\n",
       "    </tr>\n",
       "    <tr>\n",
       "      <th>16</th>\n",
       "      <td>16</td>\n",
       "      <td>14 Hands Riesling 2014</td>\n",
       "      <td>NaN</td>\n",
       "      <td>Washington</td>\n",
       "      <td>White Wine</td>\n",
       "      <td>88</td>\n",
       "      <td>This crisp Riesling shows bright flavors of ap...</td>\n",
       "    </tr>\n",
       "    <tr>\n",
       "      <th>17</th>\n",
       "      <td>17</td>\n",
       "      <td>14 Hands Riesling 2015</td>\n",
       "      <td>NaN</td>\n",
       "      <td>Washington</td>\n",
       "      <td>White Wine</td>\n",
       "      <td>88</td>\n",
       "      <td>This crisp Riesling shows bright flavors of ap...</td>\n",
       "    </tr>\n",
       "    <tr>\n",
       "      <th>18</th>\n",
       "      <td>18</td>\n",
       "      <td>14 Hands Riesling 2016</td>\n",
       "      <td>NaN</td>\n",
       "      <td>Washington</td>\n",
       "      <td>White Wine</td>\n",
       "      <td>88</td>\n",
       "      <td>This crisp Riesling shows bright flavors of ap...</td>\n",
       "    </tr>\n",
       "    <tr>\n",
       "      <th>26</th>\n",
       "      <td>26</td>\n",
       "      <td>1865 Single Vineyard Sauvignon Blanc 2011</td>\n",
       "      <td>NaN</td>\n",
       "      <td>Chile</td>\n",
       "      <td>White Wine</td>\n",
       "      <td>91</td>\n",
       "      <td>Almost transparent pale yellow, young, with gr...</td>\n",
       "    </tr>\n",
       "  </tbody>\n",
       "</table>\n",
       "</div>"
      ],
      "text/plain": [
       "    Unnamed: 0                                       name  grape      region  \\\n",
       "12          12                   14 Hands Chardonnay 2011    NaN  Washington   \n",
       "16          16                     14 Hands Riesling 2014    NaN  Washington   \n",
       "17          17                     14 Hands Riesling 2015    NaN  Washington   \n",
       "18          18                     14 Hands Riesling 2016    NaN  Washington   \n",
       "26          26  1865 Single Vineyard Sauvignon Blanc 2011    NaN       Chile   \n",
       "\n",
       "       variety  rating                                              notes  \n",
       "12  White Wine      89  This Chardonnay displays aromas and flavors of...  \n",
       "16  White Wine      88  This crisp Riesling shows bright flavors of ap...  \n",
       "17  White Wine      88  This crisp Riesling shows bright flavors of ap...  \n",
       "18  White Wine      88  This crisp Riesling shows bright flavors of ap...  \n",
       "26  White Wine      91  Almost transparent pale yellow, young, with gr...  "
      ]
     },
     "execution_count": 19,
     "metadata": {},
     "output_type": "execute_result"
    }
   ],
   "source": [
    "wineratings.head()"
   ]
  },
  {
   "cell_type": "code",
   "execution_count": 20,
   "id": "16fd798f",
   "metadata": {},
   "outputs": [
    {
     "name": "stdout",
     "output_type": "stream",
     "text": [
      "<class 'pandas.core.frame.DataFrame'>\n"
     ]
    }
   ],
   "source": [
    "import json\n",
    "print(type(wineratings))\n",
    "wineratings = wineratings.to_json()"
   ]
  },
  {
   "cell_type": "code",
   "execution_count": 21,
   "id": "4c46ac68",
   "metadata": {},
   "outputs": [],
   "source": [
    "with open(\"white-wine-ratings.json\", \"w\") as f:\n",
    "    json.dump(wineratings, f)"
   ]
  },
  {
   "cell_type": "code",
   "execution_count": null,
   "id": "046e6a46",
   "metadata": {},
   "outputs": [],
   "source": []
  }
 ],
 "metadata": {
  "kernelspec": {
   "display_name": "Python 3",
   "language": "python",
   "name": "python3"
  },
  "language_info": {
   "codemirror_mode": {
    "name": "ipython",
    "version": 3
   },
   "file_extension": ".py",
   "mimetype": "text/x-python",
   "name": "python",
   "nbconvert_exporter": "python",
   "pygments_lexer": "ipython3",
   "version": "3.8.8"
  }
 },
 "nbformat": 4,
 "nbformat_minor": 5
}
